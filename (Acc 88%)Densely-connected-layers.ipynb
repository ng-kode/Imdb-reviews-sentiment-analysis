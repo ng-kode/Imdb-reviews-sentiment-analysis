{
 "cells": [
  {
   "cell_type": "markdown",
   "metadata": {},
   "source": [
    "# Sentiment Analysis on IMDb Movie Reviews\n",
    "\n",
    "## Overview\n",
    "Train a model by: \n",
    "> reviews (x) + positive/negative? (y) ---> model\n",
    "\n",
    "So that in future the model can: \n",
    "> reviews (x) ----> model ----> positive/negative? (y)\n",
    "\n",
    "\n",
    "## Import library "
   ]
  },
  {
   "cell_type": "code",
   "execution_count": 1,
   "metadata": {},
   "outputs": [
    {
     "name": "stderr",
     "output_type": "stream",
     "text": [
      "Using TensorFlow backend.\n"
     ]
    }
   ],
   "source": [
    "# Matrix operation\n",
    "import numpy as np\n",
    "# Deep learning library\n",
    "from keras.datasets import imdb\n",
    "from keras import layers\n",
    "from keras import models\n",
    "from keras.utils.vis_utils import plot_model\n",
    "from keras.optimizers import RMSprop\n",
    "# Custom helper functions\n",
    "from Helper import plot_confusion_matrix\n",
    "# Library for evaluation\n",
    "from sklearn.metrics import confusion_matrix\n",
    "# Plot graphs\n",
    "import matplotlib.pyplot as plt\n",
    "%matplotlib inline"
   ]
  },
  {
   "cell_type": "markdown",
   "metadata": {},
   "source": [
    "## Import data"
   ]
  },
  {
   "cell_type": "code",
   "execution_count": 2,
   "metadata": {},
   "outputs": [],
   "source": [
    "(x_train, y_train), (x_test, y_test) = imdb.load_data(num_words=10000)"
   ]
  },
  {
   "cell_type": "code",
   "execution_count": 3,
   "metadata": {},
   "outputs": [
    {
     "name": "stdout",
     "output_type": "stream",
     "text": [
      "[1, 14, 22, 16, 43, 530, 973, 1622, 1385, 65, 458, 4468, 66, 3941, 4, 173, 36, 256, 5, 25, 100, 43, 838, 112, 50, 670, 2, 9, 35, 480, 284, 5, 150, 4, 172, 112, 167, 2, 336, 385, 39, 4, 172, 4536, 1111, 17, 546, 38, 13, 447, 4, 192, 50, 16, 6, 147, 2025, 19, 14, 22, 4, 1920, 4613, 469, 4, 22, 71, 87, 12, 16, 43, 530, 38, 76, 15, 13, 1247, 4, 22, 17, 515, 17, 12, 16, 626, 18, 2, 5, 62, 386, 12, 8, 316, 8, 106, 5, 4, 2223, 5244, 16, 480, 66, 3785, 33, 4, 130, 12, 16, 38, 619, 5, 25, 124, 51, 36, 135, 48, 25, 1415, 33, 6, 22, 12, 215, 28, 77, 52, 5, 14, 407, 16, 82, 2, 8, 4, 107, 117, 5952, 15, 256, 4, 2, 7, 3766, 5, 723, 36, 71, 43, 530, 476, 26, 400, 317, 46, 7, 4, 2, 1029, 13, 104, 88, 4, 381, 15, 297, 98, 32, 2071, 56, 26, 141, 6, 194, 7486, 18, 4, 226, 22, 21, 134, 476, 26, 480, 5, 144, 30, 5535, 18, 51, 36, 28, 224, 92, 25, 104, 4, 226, 65, 16, 38, 1334, 88, 12, 16, 283, 5, 16, 4472, 113, 103, 32, 15, 16, 5345, 19, 178, 32]\n"
     ]
    }
   ],
   "source": [
    "\"\"\"\n",
    "Our training text (x_train) consists of 25,000 reviews of various length.\n",
    "Let's look at one of the reviews.\n",
    "\"\"\"\n",
    "print(x_train[0])"
   ]
  },
  {
   "cell_type": "code",
   "execution_count": 4,
   "metadata": {},
   "outputs": [
    {
     "name": "stdout",
     "output_type": "stream",
     "text": [
      "the as you with out themselves powerful lets loves their becomes reaching had journalist of lot from anyone to have after out atmosphere never more room and it so heart shows to years of every never going and help moments or of every chest visual movie except her was several of enough more with is now current film as you of mine potentially unfortunately of you than him that with out themselves her get for was camp of you movie sometimes movie that with scary but and to story wonderful that in seeing in character to of 70s musicians with heart had shadows they of here that with her serious to have does when from why what have critics they is you that isn't one will very to as itself with other and in of seen over landed for anyone of and br show's to whether from than out themselves history he name half some br of and odd was two most of mean for 1 any an boat she he should is thought frog but of script you not while history he heart to real at barrel but when from one bit then have two of script their with her nobody most that with wasn't to with armed acting watch an for with heartfelt film want an \n"
     ]
    }
   ],
   "source": [
    "\"\"\"\n",
    "It is a sequence of integers, each integer represents a word out of the most-frequent-10,000 words.\n",
    "For curiosity sake let's have a peek at the original text.\n",
    "\"\"\"\n",
    "def find_key(input_dict, value):\n",
    "    return next((k for k, v in input_dict.items() if v == value), None)\n",
    "\n",
    "review = ''\n",
    "for integer in x_train[0]:\n",
    "    review += find_key(imdb.get_word_index(), integer)\n",
    "    review += ' '\n",
    "\n",
    "print(review)"
   ]
  },
  {
   "cell_type": "code",
   "execution_count": 5,
   "metadata": {},
   "outputs": [
    {
     "name": "stdout",
     "output_type": "stream",
     "text": [
      "1\n"
     ]
    }
   ],
   "source": [
    "\"\"\"\n",
    "Label for this review.\n",
    "1 for positive and 0 for negative.\n",
    "\"\"\"\n",
    "print(y_train[3])"
   ]
  },
  {
   "cell_type": "markdown",
   "metadata": {},
   "source": [
    "## Data preprocessing\n",
    "\n",
    "We will further vectorize our x_train and x_test, which are sequences of integers, into one-hot-vector.\n",
    "It looks like something below\n",
    "<img src=\"./one_hot_encoding.png\" width=\"600px\" height=\"400px\">"
   ]
  },
  {
   "cell_type": "code",
   "execution_count": 6,
   "metadata": {},
   "outputs": [],
   "source": [
    "def one_hot_encode_sequences(sequences, dimension=10000):\n",
    "    results = np.zeros((len(sequences), dimension))\n",
    "    for i, sequence in enumerate(sequences):\n",
    "        results[i, sequence] = 1.\n",
    "    return results\n",
    "\n",
    "x_train = one_hot_encode_sequences(x_train)\n",
    "x_test = one_hot_encode_sequences(x_test)\n",
    "\n",
    "y_train = y_train.astype('float32')\n",
    "y_test = y_test.astype('float32')"
   ]
  },
  {
   "cell_type": "code",
   "execution_count": 7,
   "metadata": {},
   "outputs": [
    {
     "name": "stdout",
     "output_type": "stream",
     "text": [
      "[ 0.  1.  1. ...,  0.  0.  0.]\n"
     ]
    }
   ],
   "source": [
    "print(x_train[0])"
   ]
  },
  {
   "cell_type": "markdown",
   "metadata": {},
   "source": [
    "## Train and validate model\n",
    "\n",
    "\n",
    "Further split\n",
    "our training set into **\"partial train\"** and **\"validation\"** set.\n",
    "\n",
    "<img src=\"./train_validation_split.jpg\" width=\"600px\" height=\"400px\">\n",
    "\n",
    "This makes sure that our model will not overfit too bad\n",
    "**by tuning our model without seeing the test set**.\n",
    "\n",
    "We can think of **overfitting** as something like\n",
    "a student who is preparing for an exam memorizes the content of learning material (i.e. our x_train, y_train) too hard that during the exam (i.e. our x_test) he/she can only give correct answers on seen questions but completely fails when new questions arise."
   ]
  },
  {
   "cell_type": "code",
   "execution_count": 8,
   "metadata": {},
   "outputs": [],
   "source": [
    "x_val = x_train[:10000]\n",
    "y_val = y_train[:10000]\n",
    "\n",
    "partial_x_train = x_train[10000:]\n",
    "partial_y_train = y_train[10000:]"
   ]
  },
  {
   "cell_type": "markdown",
   "metadata": {},
   "source": [
    "## Build the model, and train it\n",
    "\n",
    "our model will look like below\n",
    "<br>\n",
    "<img src=\"./neural_network.jpg\" width=\"600px\" height=\"400px\">\n",
    "\n",
    "Output shape of each layer\n",
    "- Input layer: 10,000\n",
    "- Hidden layer 1: 16 \n",
    "- Hidden layer 2: 16 \n",
    "- Output layer: 1 (probability of a review being positive)"
   ]
  },
  {
   "cell_type": "code",
   "execution_count": 9,
   "metadata": {},
   "outputs": [],
   "source": [
    "def build_and_run(epochs=10):\n",
    "    model = models.Sequential()\n",
    "    model.add(layers.Dense(16, activation='relu', input_shape=(10000,)))\n",
    "    model.add(layers.Dense(16, activation='relu'))\n",
    "    model.add(layers.Dense(1, activation='sigmoid'))\n",
    "    # model.summary()\n",
    "\n",
    "    model.compile(optimizer=RMSprop(lr=1e-4),\n",
    "                 loss='binary_crossentropy',\n",
    "                 metrics=['binary_accuracy'])\n",
    "    history = model.fit(partial_x_train,\n",
    "                        partial_y_train,\n",
    "                        batch_size=16,\n",
    "                        epochs=epochs,\n",
    "                        validation_data=(x_val, y_val),\n",
    "                        verbose=0)\n",
    "    return model, history\n",
    "\n",
    "try:\n",
    "    del model\n",
    "    del history\n",
    "except NameError:\n",
    "    pass\n",
    "model, history = build_and_run()"
   ]
  },
  {
   "cell_type": "markdown",
   "metadata": {},
   "source": [
    "## Plotting the result"
   ]
  },
  {
   "cell_type": "code",
   "execution_count": 10,
   "metadata": {
    "scrolled": false
   },
   "outputs": [
    {
     "data": {
      "text/plain": [
       "<matplotlib.legend.Legend at 0x7f11fd4d17f0>"
      ]
     },
     "execution_count": 10,
     "metadata": {},
     "output_type": "execute_result"
    },
    {
     "data": {
      "image/png": "[encoded data removed]",
      "text/plain": [
       "<matplotlib.figure.Figure at 0x7f11f49a9860>"
      ]
     },
     "metadata": {},
     "output_type": "display_data"
    }
   ],
   "source": [
    "acc = history.history['binary_accuracy']\n",
    "val_acc = history.history['val_binary_accuracy']\n",
    "loss = history.history['loss']\n",
    "val_loss = history.history['val_loss']\n",
    "\n",
    "epochs = range(1, len(acc) + 1)\n",
    "\n",
    "f, axarr = plt.subplots(1, 2, figsize=(18, 6))\n",
    "axarr[0].plot(epochs, acc, 'bo', label='Training acc')\n",
    "axarr[0].plot(epochs, val_acc, 'b', label='Validation acc')\n",
    "axarr[0].set_title('Training and validation accuracy')\n",
    "axarr[0].legend()\n",
    "\n",
    "axarr[1].plot(epochs, loss, 'bo', label='Training loss')\n",
    "axarr[1].plot(epochs, val_loss, 'b', label='Validation loss')\n",
    "axarr[1].set_title('Training and validation loss')\n",
    "axarr[1].legend()"
   ]
  },
  {
   "cell_type": "markdown",
   "metadata": {},
   "source": [
    "From the above graph, we can see:\n",
    "As number of epochs increases, \n",
    "1. training accuracy (blue dots) increases, nearly to 100%. That's overfitting\n",
    "2. validation accuracy (solid line) increases then levels off, at around 88%. That means max. acc has already attained at certain epoch"
   ]
  },
  {
   "cell_type": "markdown",
   "metadata": {},
   "source": [
    "## Re-train model on optimal epoch <small>seen from the graph above, 5th epoch</small>"
   ]
  },
  {
   "cell_type": "code",
   "execution_count": 11,
   "metadata": {},
   "outputs": [
    {
     "name": "stdout",
     "output_type": "stream",
     "text": [
      "optimal_num_epochs: 5\n"
     ]
    }
   ],
   "source": [
    "from keras import layers\n",
    "from keras import models\n",
    "\n",
    "optimal_num_epochs = np.argmax(history.history['val_binary_accuracy']) + 1\n",
    "print('optimal_num_epochs: %s' % optimal_num_epochs)\n",
    "\n",
    "try:\n",
    "    del model\n",
    "except NameError:\n",
    "    pass\n",
    "model, history2 = build_and_run(optimal_num_epochs)"
   ]
  },
  {
   "cell_type": "markdown",
   "metadata": {},
   "source": [
    "Our model can attain accuracy of **89%** (on valiation set).\n",
    "We can tune the model further if we want higher accuracy.\n",
    "\n",
    "Things can be tuned in includes:\n",
    "- (depth) number of layers\n",
    "- (width) size of each layer\n",
    "- use differnet types of layer (e.g. Word embedding instead of one-hot)\n",
    "- optimizer: rmsprop, adam, sgd, ...\n",
    "- batch size\n",
    "- etc...\n",
    "They are \"hyperparameters\"\n",
    "\n",
    "This is where the art and uncertainty comes in, as at the moment there is no universal rules for optimal settings of the above. We need to tune it case by case."
   ]
  },
  {
   "cell_type": "markdown",
   "metadata": {},
   "source": [
    "## Evaluation: Apply model to test set"
   ]
  },
  {
   "cell_type": "code",
   "execution_count": 12,
   "metadata": {},
   "outputs": [
    {
     "name": "stdout",
     "output_type": "stream",
     "text": [
      "24576/25000 [============================>.] - ETA: 0sAccuracy: 88.6440000095 %\n"
     ]
    }
   ],
   "source": [
    "loss, binary_accuracy = model.evaluate(x_test, y_test, batch_size=512)\n",
    "print('Accuracy: {} %'.format(str(binary_accuracy * 100)))"
   ]
  },
  {
   "cell_type": "markdown",
   "metadata": {},
   "source": [
    "Accurracy on test set ~ **88.6%**\n",
    "\n",
    "Accuracy alone is an acceptable evaluation metrics if our target class ratio is balanced.\n",
    "<br>In case of imbalanced class (e.g. positive reviews >> negative), other metrics need to be used to have a clearer performance of our model. \n",
    "\n",
    "**Confusion matrix** will be a good evaluation matrix"
   ]
  },
  {
   "cell_type": "code",
   "execution_count": 13,
   "metadata": {},
   "outputs": [
    {
     "name": "stdout",
     "output_type": "stream",
     "text": [
      "24896/25000 [============================>.] - ETA: 0s"
     ]
    }
   ],
   "source": [
    "cm = confusion_matrix(y_test, model.predict_classes(x_test).flatten())"
   ]
  },
  {
   "cell_type": "code",
   "execution_count": 14,
   "metadata": {},
   "outputs": [
    {
     "data": {
      "image/png": "[encoded data removed]",
      "text/plain": [
       "<matplotlib.figure.Figure at 0x7f1201bf27f0>"
      ]
     },
     "metadata": {},
     "output_type": "display_data"
    }
   ],
   "source": [
    "plt.figure(figsize=(20,6))\n",
    "plt.subplot('121')\n",
    "plot_confusion_matrix(cm, [0, 1])\n",
    "plt.subplot('122')\n",
    "plot_confusion_matrix(cm, [0, 1], normalize=True)"
   ]
  },
  {
   "cell_type": "markdown",
   "metadata": {},
   "source": [
    "<img src=\"./confusion_matrix.png\">\n",
    "\n",
    "In this way we can clearly see our class ratio (i.e. how many positive reviews vs negative) in both the true label and predicted label, and more importantly to evaluate our model by precision, recall besides accuracy.\n",
    "\n",
    "- **Accuracy** = (11201 + 10949) / 25000 = 88.6% \n",
    "- **Precision** = (10949) / (10949 + 1299) = 89.4%\n",
    "- **Recall** = (10949) / (1551 + 10949) = 87.6%"
   ]
  },
  {
   "cell_type": "code",
   "execution_count": null,
   "metadata": {},
   "outputs": [],
   "source": []
  },
  {
   "cell_type": "code",
   "execution_count": null,
   "metadata": {},
   "outputs": [],
   "source": []
  },
  {
   "cell_type": "code",
   "execution_count": null,
   "metadata": {},
   "outputs": [],
   "source": []
  }
 ],
 "metadata": {
  "kernelspec": {
   "display_name": "Python 3",
   "language": "python",
   "name": "python3"
  },
  "language_info": {
   "codemirror_mode": {
    "name": "ipython",
    "version": 3
   },
   "file_extension": ".py",
   "mimetype": "text/x-python",
   "name": "python",
   "nbconvert_exporter": "python",
   "pygments_lexer": "ipython3",
   "version": "3.5.2"
  }
 },
 "nbformat": 4,
 "nbformat_minor": 2
}
