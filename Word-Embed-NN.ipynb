{
 "cells": [
  {
   "cell_type": "code",
   "execution_count": 10,
   "metadata": {},
   "outputs": [],
   "source": [
    "from keras.datasets import imdb\n",
    "\n",
    "max_features = 10000\n",
    "\n",
    "(x_train, y_train), (x_test, y_test) = imdb.load_data(num_words=max_features)"
   ]
  },
  {
   "cell_type": "code",
   "execution_count": 11,
   "metadata": {},
   "outputs": [],
   "source": [
    "from keras import preprocessing\n",
    "\n",
    "maxlen = 1000\n",
    "\n",
    "x_train = preprocessing.sequence.pad_sequences(x_train, maxlen=maxlen)\n",
    "x_test = preprocessing.sequence.pad_sequences(x_test, maxlen=maxlen)"
   ]
  },
  {
   "cell_type": "code",
   "execution_count": 12,
   "metadata": {},
   "outputs": [
    {
     "name": "stdout",
     "output_type": "stream",
     "text": [
      "Train on 20000 samples, validate on 5000 samples\n",
      "Epoch 1/20\n",
      "20000/20000 [==============================] - 2s - loss: 0.6920 - acc: 0.5378 - val_loss: 0.6906 - val_acc: 0.5692\n",
      "Epoch 2/20\n",
      "20000/20000 [==============================] - 2s - loss: 0.6850 - acc: 0.6920 - val_loss: 0.6836 - val_acc: 0.6802\n",
      "Epoch 3/20\n",
      "20000/20000 [==============================] - 2s - loss: 0.6679 - acc: 0.7509 - val_loss: 0.6534 - val_acc: 0.7220\n",
      "Epoch 4/20\n",
      "20000/20000 [==============================] - 2s - loss: 0.6083 - acc: 0.7891 - val_loss: 0.5625 - val_acc: 0.7788\n",
      "Epoch 5/20\n",
      "20000/20000 [==============================] - 2s - loss: 0.4895 - acc: 0.8255 - val_loss: 0.4388 - val_acc: 0.8302\n",
      "Epoch 6/20\n",
      "20000/20000 [==============================] - 2s - loss: 0.3806 - acc: 0.8551 - val_loss: 0.3677 - val_acc: 0.8502\n",
      "Epoch 7/20\n",
      "20000/20000 [==============================] - 2s - loss: 0.3169 - acc: 0.8764 - val_loss: 0.3349 - val_acc: 0.8594\n",
      "Epoch 8/20\n",
      "20000/20000 [==============================] - 2s - loss: 0.2793 - acc: 0.8906 - val_loss: 0.3192 - val_acc: 0.8674\n",
      "Epoch 9/20\n",
      "20000/20000 [==============================] - 2s - loss: 0.2524 - acc: 0.9025 - val_loss: 0.3108 - val_acc: 0.8682\n",
      "Epoch 10/20\n",
      "20000/20000 [==============================] - 2s - loss: 0.2311 - acc: 0.9109 - val_loss: 0.3062 - val_acc: 0.8686\n",
      "Epoch 11/20\n",
      "20000/20000 [==============================] - 2s - loss: 0.2131 - acc: 0.9202 - val_loss: 0.3049 - val_acc: 0.8692\n",
      "Epoch 12/20\n",
      "20000/20000 [==============================] - 2s - loss: 0.1975 - acc: 0.9278 - val_loss: 0.3102 - val_acc: 0.8716\n",
      "Epoch 13/20\n",
      "20000/20000 [==============================] - 2s - loss: 0.1838 - acc: 0.9340 - val_loss: 0.3146 - val_acc: 0.8724\n",
      "Epoch 14/20\n",
      "20000/20000 [==============================] - 2s - loss: 0.1711 - acc: 0.9397 - val_loss: 0.3098 - val_acc: 0.8732\n",
      "Epoch 15/20\n",
      "20000/20000 [==============================] - 2s - loss: 0.1605 - acc: 0.9446 - val_loss: 0.3139 - val_acc: 0.8722\n",
      "Epoch 16/20\n",
      "20000/20000 [==============================] - 2s - loss: 0.1504 - acc: 0.9487 - val_loss: 0.3244 - val_acc: 0.8722\n",
      "Epoch 17/20\n",
      "20000/20000 [==============================] - 2s - loss: 0.1412 - acc: 0.9525 - val_loss: 0.3261 - val_acc: 0.8698\n",
      "Epoch 18/20\n",
      "20000/20000 [==============================] - 2s - loss: 0.1327 - acc: 0.9553 - val_loss: 0.3379 - val_acc: 0.8698\n",
      "Epoch 19/20\n",
      "20000/20000 [==============================] - 2s - loss: 0.1246 - acc: 0.9584 - val_loss: 0.3391 - val_acc: 0.8716\n",
      "Epoch 20/20\n",
      "20000/20000 [==============================] - 2s - loss: 0.1174 - acc: 0.9619 - val_loss: 0.3449 - val_acc: 0.8716\n"
     ]
    }
   ],
   "source": [
    "from keras.models import Sequential\n",
    "from keras import layers\n",
    "from keras.optimizers import RMSprop\n",
    "\n",
    "embedding_dim = 128\n",
    "\n",
    "try:\n",
    "    del model\n",
    "except NameError:\n",
    "    pass\n",
    "model = Sequential()\n",
    "model.add(layers.Embedding(input_dim=max_features, output_dim=embedding_dim, input_length=maxlen))\n",
    "model.add(layers.Conv1D(32, 7, activation='relu'))\n",
    "model.add(layers.MaxPooling1D(5))\n",
    "model.add(layers.Conv1D(32, 7, activation='relu'))\n",
    "model.add(layers.GlobalMaxPooling1D())\n",
    "model.add(layers.Dense(1, activation='sigmoid'))\n",
    "\n",
    "# model.summary()\n",
    "\n",
    "model.compile(optimizer=RMSprop(lr=1e-4),\n",
    "              loss='binary_crossentropy',\n",
    "              metrics=['acc'])\n",
    "history = model.fit(x_train, y_train,\n",
    "                    epochs=20,\n",
    "                    batch_size=128,\n",
    "                    validation_split=0.2)"
   ]
  },
  {
   "cell_type": "code",
   "execution_count": 13,
   "metadata": {},
   "outputs": [
    {
     "data": {
      "text/plain": [
       "<matplotlib.legend.Legend at 0x7fe5f7853b70>"
      ]
     },
     "execution_count": 13,
     "metadata": {},
     "output_type": "execute_result"
    },
    {
     "data": {
      "image/png": "[encoded data removed]",
      "text/plain": [
       "<matplotlib.figure.Figure at 0x7fe5f7b9c9e8>"
      ]
     },
     "metadata": {},
     "output_type": "display_data"
    }
   ],
   "source": [
    "import matplotlib.pyplot as plt\n",
    "%matplotlib inline\n",
    "\n",
    "acc = history.history['acc']\n",
    "val_acc = history.history['val_acc']\n",
    "loss = history.history['loss']\n",
    "val_loss = history.history['val_loss']\n",
    "\n",
    "epochs = range(1, len(acc) + 1)\n",
    "\n",
    "f, axarr = plt.subplots(1, 2, figsize=(18, 6))\n",
    "axarr[0].plot(epochs, acc, 'bo', label='Training acc')\n",
    "axarr[0].plot(epochs, val_acc, 'b', label='Validation acc')\n",
    "axarr[0].set_title('Training and validation accuracy')\n",
    "axarr[0].legend()\n",
    "\n",
    "axarr[1].plot(epochs, loss, 'bo', label='Training loss')\n",
    "axarr[1].plot(epochs, val_loss, 'b', label='Validation loss')\n",
    "axarr[1].set_title('Training and validation loss')\n",
    "axarr[1].legend()"
   ]
  },
  {
   "cell_type": "code",
   "execution_count": 14,
   "metadata": {},
   "outputs": [
    {
     "data": {
      "text/plain": [
       "0.87319999999999998"
      ]
     },
     "execution_count": 14,
     "metadata": {},
     "output_type": "execute_result"
    }
   ],
   "source": [
    "max(history.history['val_acc'])"
   ]
  },
  {
   "cell_type": "code",
   "execution_count": null,
   "metadata": {},
   "outputs": [],
   "source": []
  }
 ],
 "metadata": {
  "kernelspec": {
   "display_name": "Python 3",
   "language": "python",
   "name": "python3"
  },
  "language_info": {
   "codemirror_mode": {
    "name": "ipython",
    "version": 3
   },
   "file_extension": ".py",
   "mimetype": "text/x-python",
   "name": "python",
   "nbconvert_exporter": "python",
   "pygments_lexer": "ipython3",
   "version": "3.5.2"
  }
 },
 "nbformat": 4,
 "nbformat_minor": 2
}
